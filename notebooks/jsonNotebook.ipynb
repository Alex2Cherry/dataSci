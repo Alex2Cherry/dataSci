{
 "cells": [
  {
   "cell_type": "code",
   "execution_count": 3,
   "metadata": {
    "collapsed": true,
    "pycharm": {
     "is_executing": false
    }
   },
   "outputs": [
    {
     "name": "stdout",
     "text": [
      "dict_keys(['ps', 'ts', 'acc', 'gyro'])\n"
     ],
     "output_type": "stream"
    }
   ],
   "source": [
    "import json\n",
    "\n",
    "infile = open(\"/home/alex/workstudio/botDetect/data/human/detect-2019-09-11-16-24-29-358.txt\")\n",
    "detectData = json.load(infile)\n",
    "print(detectData.keys())\n",
    "\n",
    "acc = detectData['acc']\n",
    "item = acc[0]\n",
    "line = item.values()\n"
   ]
  },
  {
   "cell_type": "code",
   "execution_count": 4,
   "outputs": [],
   "source": [
    "import pandas as pd\n",
    "\n",
    "accValues = []\n",
    "for accItem in acc:\n",
    "    accValues.append(list(accItem.values()))\n",
    "\n",
    "head = list(item.keys())\n",
    "\n",
    "df = pd.DataFrame(columns=head, data=accValues)\n",
    "df.head(5)\n",
    "\n",
    "df.to_csv(\"/home/alex/workstudio/botDetect/data/human/acc.csv\", index=False)\n",
    "\n"
   ],
   "metadata": {
    "collapsed": false,
    "pycharm": {
     "name": "#%%\n",
     "is_executing": false
    }
   }
  },
  {
   "cell_type": "code",
   "execution_count": 5,
   "outputs": [
    {
     "name": "stdout",
     "text": [
      "max_x =  1.532289\nmim_x =  -3.2752678\nmean_x =  -0.15998178537179486\nmedian_x =  -0.15322891\nstd_x =  0.4858952022747223\nmax_y =  7.52737\nmim_y =  3.6008794\nmean_y =  6.364279231623931\nmedian_y =  6.435614\nstd_y =  0.5806399641209855\nmax_z =  11.511322\nmim_z =  5.4683566\nt    1.568190e+12\nx    1.532289e+00\ny    7.527370e+00\nz    1.151132e+01\ndtype: float64\nt    1.568190e+12\nx   -3.275268e+00\ny    3.600879e+00\nz    5.468357e+00\ndtype: float64\nt    1.568190e+12\nx   -1.599818e-01\ny    6.364279e+00\nz    7.331946e+00\ndtype: float64\nt    4468.101501\nx       0.485895\ny       0.580640\nz       0.673082\ndtype: float64\naxis t    1.568190e+12\nx    1.532289e+00\ny    7.527370e+00\nz    1.151132e+01\ndtype: float64\n"
     ],
     "output_type": "stream"
    }
   ],
   "source": [
    "print(\"max_x = \", df['x'].max())\n",
    "print(\"mim_x = \", df['x'].min())\n",
    "print(\"mean_x = \", df['x'].mean())\n",
    "print(\"median_x = \", df['x'].median())\n",
    "print(\"std_x = \", df['x'].std())\n",
    "\n",
    "print(\"max_y = \", df['y'].max())\n",
    "print(\"mim_y = \", df['y'].min())\n",
    "print(\"mean_y = \", df['y'].mean())\n",
    "print(\"median_y = \", df['y'].median())\n",
    "print(\"std_y = \", df['y'].std())\n",
    "\n",
    "print(\"max_z = \", df['z'].max())\n",
    "print(\"mim_z = \", df['z'].min())\n",
    "\n",
    "print(df.max())\n",
    "print(df.min())\n",
    "print(df.mean())\n",
    "print(df.std())\n",
    "\n",
    "print(\"axis\", df.max(axis=0))\n",
    "\n",
    "\n"
   ],
   "metadata": {
    "collapsed": false,
    "pycharm": {
     "name": "#%%\n",
     "is_executing": false
    }
   }
  },
  {
   "cell_type": "code",
   "execution_count": 6,
   "outputs": [
    {
     "data": {
      "text/plain": "<Figure size 1500x1000 with 3 Axes>"
     },
     "metadata": {},
     "output_type": "display_data"
    }
   ],
   "source": [
    "import pandas as pd\n",
    "import numpy as np\n",
    "import matplotlib.pyplot as plt\n",
    "\n",
    "# 绘图使用 ggplot 的 style\n",
    "plt.style.use('ggplot')\n",
    "\n",
    "# 加载数据集\n",
    "def read_data(file_path):\n",
    "    column_names = ['t', 'x', 'y', 'z']\n",
    "    data = pd.read_csv(file_path, header=0, names=column_names)\n",
    "    return data\n",
    "\n",
    "# 数据标准化\n",
    "def feature_normalize(dataset):\n",
    "    mu = np.mean(dataset, axis=0)\n",
    "    sigma = np.std(dataset, axis=0)\n",
    "    return (dataset - mu) / sigma\n",
    "\n",
    "# 绘图\n",
    "def plot_axis(ax, x, y, title):\n",
    "    ax.plot(x, y)\n",
    "    ax.set_title(title)\n",
    "    ax.xaxis.set_visible(False)\n",
    "    ax.set_ylim([min(y) - np.std(y), max(y) + np.std(y)])\n",
    "    ax.set_xlim([min(x), max(x)])\n",
    "    ax.grid(True)\n",
    "\n",
    "# 为给定的行为画出一段时间（180 × 50ms）的波形图\n",
    "def plot_activity(data):\n",
    "    fig, (ax0, ax1, ax2) = plt.subplots(nrows=3, figsize=(15, 10), sharex=True)\n",
    "    plot_axis(ax0, data['t'], data['x'], 'x-axis')\n",
    "    plot_axis(ax1, data['t'], data['y'], 'y-axis')\n",
    "    plot_axis(ax2, data['t'], data['z'], 'z-axis')\n",
    "    plt.subplots_adjust(hspace=0.2)\n",
    "    fig.suptitle('human')\n",
    "    plt.subplots_adjust(top=0.90)\n",
    "    plt.show()\n",
    "\n",
    "dataset = read_data('/home/alex/workstudio/botDetect/data/human/acc.csv')\n",
    "dataset['x'] = feature_normalize(dataset['x'])\n",
    "dataset['y'] = feature_normalize(dataset['y'])\n",
    "dataset['z'] = feature_normalize(dataset['z'])\n",
    "\n",
    "# 绘图\n",
    "plot_activity(dataset)\n",
    "    "
   ],
   "metadata": {
    "collapsed": false,
    "pycharm": {
     "name": "#%%\n",
     "is_executing": false
    }
   }
  },
  {
   "cell_type": "code",
   "execution_count": 7,
   "outputs": [
    {
     "name": "stdout",
     "text": [
      "15\n82\n0.6611875995936752\n9.70478125304876\n^\n['i', 'q', 'r', 'k', 'b']\ntVouLYU8\nmnrdo\n剪刀\nNone\n"
     ],
     "output_type": "stream"
    }
   ],
   "source": [
    "import random\n",
    "import string\n",
    "\n",
    "# 随机整数：\n",
    "print(random.randint(1,50))\n",
    "\n",
    "# 随机选取0到100间的偶数：\n",
    "print(random.randrange(0, 101, 2))\n",
    "\n",
    "# 随机浮点数：\n",
    "print(random.random())\n",
    "print(random.uniform(1, 10))\n",
    "\n",
    "# 随机字符：\n",
    "print(random.choice('abcdefghijklmnopqrstuvwxyz!@#$%^&*()'))\n",
    "\n",
    "# 多个字符中生成指定数量的随机字符：\n",
    "print(random.sample('zyxwvutsrqponmlkjihgfedcba',5))\n",
    "\n",
    "# 从a-zA-Z0-9生成指定数量的随机字符：\n",
    "ran_str = ''.join(random.sample(string.ascii_letters + string.digits, 8))\n",
    "print(ran_str)\n",
    "\n",
    "# 多个字符中选取指定数量的字符组成新字符串：\n",
    "print(''.join(random.sample(['z','y','x','w','v','u','t','s','r','q','p','o','n','m','l','k','j','i','h','g','f','e','d','c','b','a'], 5)))\n",
    "\n",
    "# 随机选取字符串：\n",
    "print(random.choice(['剪刀', '石头', '布']))\n",
    "\n",
    "# 打乱排序\n",
    "items = [1, 2, 3, 4, 5, 6, 7, 8, 9, 0]\n",
    "print(random.shuffle(items))\n",
    "\n",
    "\n"
   ],
   "metadata": {
    "collapsed": false,
    "pycharm": {
     "name": "#%%\n",
     "is_executing": false
    }
   }
  }
 ],
 "metadata": {
  "kernelspec": {
   "name": "pycharm-9a721ad8",
   "language": "python",
   "display_name": "PyCharm (dataSci)"
  },
  "language_info": {
   "codemirror_mode": {
    "name": "ipython",
    "version": 2
   },
   "file_extension": ".py",
   "mimetype": "text/x-python",
   "name": "python",
   "nbconvert_exporter": "python",
   "pygments_lexer": "ipython2",
   "version": "2.7.6"
  },
  "pycharm": {
   "stem_cell": {
    "cell_type": "raw",
    "source": [],
    "metadata": {
     "collapsed": false
    }
   }
  }
 },
 "nbformat": 4,
 "nbformat_minor": 0
}